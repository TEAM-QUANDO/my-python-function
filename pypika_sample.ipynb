{
 "cells": [
  {
   "cell_type": "code",
   "execution_count": 1,
   "metadata": {},
   "outputs": [],
   "source": [
    "from typing import Optional, List, Dict\n",
    "import pandas as pd\n",
    "from pypika import Query ,Table, PostgreSQLQuery, Field\n",
    "from pypika.queries import QueryBuilder, Selectable\n",
    "import pypika.functions as fn\n",
    "\n",
    "from pydantic import BaseModel\n",
    "from pydantic.dataclasses import dataclass"
   ]
  },
  {
   "cell_type": "code",
   "execution_count": 2,
   "metadata": {},
   "outputs": [],
   "source": [
    "class Customer():\n",
    "    table = Table(\"customer\")\n",
    "    id = Field(\"id\")\n",
    "    fname = Field(\"fname\")\n",
    "    lname = Field(\"lname\")\n",
    "    phone = Field(\"phone\")"
   ]
  },
  {
   "cell_type": "code",
   "execution_count": 4,
   "metadata": {},
   "outputs": [
    {
     "name": "stdout",
     "output_type": "stream",
     "text": [
      "SELECT * FROM group_images LIMIT 100\n"
     ]
    }
   ],
   "source": [
    "_builder = PostgreSQLQuery.from_(\"group_images\")\n",
    "sql_expr = _builder.select(\"*\").limit(100)\n",
    "print(sql_expr.get_sql(quote_char=\"\"))"
   ]
  },
  {
   "cell_type": "code",
   "execution_count": 79,
   "metadata": {},
   "outputs": [
    {
     "name": "stdout",
     "output_type": "stream",
     "text": [
      "SELECT company_id,COUNT(DISTINCT id) \"num_groups\",array_agg(DISTINCT id) \"group_id\" FROM groups WHERE archived_at IS NULL GROUP BY company_id\n"
     ]
    }
   ],
   "source": [
    "table = Table('groups')\n",
    "sql_expr = PostgreSQLQuery.from_(table).where(\n",
    "    table['archived_at'].isnull()\n",
    ").groupby(table['company_id']).select(\n",
    "    table['company_id'],\n",
    "    fn.Count(table['id']).distinct().as_('num_groups'),\n",
    "    fn.DistinctOptionFunction(\n",
    "        \"array_agg\", table.id).distinct().as_('group_id')\n",
    ")\n",
    "print(sql_expr.get_sql(quote_char=\"\"))"
   ]
  },
  {
   "cell_type": "code",
   "execution_count": 82,
   "metadata": {},
   "outputs": [
    {
     "data": {
      "text/plain": [
       "SELECT \"id\",\"fname\",\"lname\",\"phone\" FROM \"customer\" WHERE \"lname\"='Mustermann'"
      ]
     },
     "execution_count": 82,
     "metadata": {},
     "output_type": "execute_result"
    }
   ],
   "source": [
    "block = Customer()\n",
    "q = Query.from_(block.table).select(\n",
    "    block.id, block.fname, block.lname, block.phone\n",
    ").where(\n",
    "    block.lname == 'Mustermann'\n",
    ")\n",
    "q"
   ]
  },
  {
   "cell_type": "code",
   "execution_count": 38,
   "metadata": {},
   "outputs": [
    {
     "data": {
      "text/plain": [
       "<pypika.terms.Field at 0x242970da548>"
      ]
     },
     "execution_count": 38,
     "metadata": {},
     "output_type": "execute_result"
    }
   ],
   "source": [
    "customers.fname"
   ]
  },
  {
   "cell_type": "code",
   "execution_count": 1,
   "metadata": {},
   "outputs": [],
   "source": [
    "from typing import Optional\n",
    "from sqlmodel import Field, Session, SQLModel, select\n",
    "\n",
    "\n",
    "class Hero(SQLModel, table=True):\n",
    "    id: Optional[int] = Field(default=None, primary_key=True)\n",
    "    name: str\n",
    "    secret_name: str\n",
    "    age: Optional[int] = None\n",
    "\n",
    "statement = select(Hero).where(Hero.name == \"Spider-Boy\")"
   ]
  },
  {
   "cell_type": "code",
   "execution_count": 5,
   "metadata": {},
   "outputs": [
    {
     "name": "stdout",
     "output_type": "stream",
     "text": [
      "SELECT hero.id, hero.name, hero.secret_name, hero.age \n",
      "FROM hero \n",
      "WHERE hero.name = :name_1\n"
     ]
    }
   ],
   "source": [
    "from sqlalchemy.dialects import postgresql\n",
    "\n",
    "print(statement.compile())"
   ]
  },
  {
   "cell_type": "code",
   "execution_count": null,
   "metadata": {},
   "outputs": [],
   "source": []
  }
 ],
 "metadata": {
  "interpreter": {
   "hash": "46c36fa438a0e5217cf9152cd05c2dbbe7da14e3af0a2f78612f95babe496324"
  },
  "kernelspec": {
   "display_name": "Python 3.7.4 ('base')",
   "language": "python",
   "name": "python3"
  },
  "language_info": {
   "codemirror_mode": {
    "name": "ipython",
    "version": 3
   },
   "file_extension": ".py",
   "mimetype": "text/x-python",
   "name": "python",
   "nbconvert_exporter": "python",
   "pygments_lexer": "ipython3",
   "version": "3.7.12"
  },
  "orig_nbformat": 4
 },
 "nbformat": 4,
 "nbformat_minor": 2
}
